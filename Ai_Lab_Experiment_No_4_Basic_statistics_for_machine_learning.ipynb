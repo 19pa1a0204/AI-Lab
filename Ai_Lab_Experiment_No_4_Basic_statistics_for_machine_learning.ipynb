{
  "nbformat": 4,
  "nbformat_minor": 0,
  "metadata": {
    "colab": {
      "name": "Ai Lab Experiment No 4: Basic statistics for machine learning",
      "provenance": [],
      "authorship_tag": "ABX9TyOrgjW1zn9ciUCzrT4+QhOf",
      "include_colab_link": true
    },
    "kernelspec": {
      "name": "python3",
      "display_name": "Python 3"
    }
  },
  "cells": [
    {
      "cell_type": "markdown",
      "metadata": {
        "id": "view-in-github",
        "colab_type": "text"
      },
      "source": [
        "<a href=\"https://colab.research.google.com/github/19pa1a0204/AI-Lab/blob/master/Ai_Lab_Experiment_No_4_Basic_statistics_for_machine_learning.ipynb\" target=\"_parent\"><img src=\"https://colab.research.google.com/assets/colab-badge.svg\" alt=\"Open In Colab\"/></a>"
      ]
    },
    {
      "cell_type": "markdown",
      "metadata": {
        "id": "lmjsdxzyMlX-"
      },
      "source": [
        "#Experiment No 4: Basic statistics for machine learning"
      ]
    },
    {
      "cell_type": "code",
      "metadata": {
        "id": "t2aKkPDKMxDa"
      },
      "source": [
        "import numpy as np\n",
        "import pandas as pd\n",
        "import seaborn as sns\n",
        "import matplotlib.pyplot as plt"
      ],
      "execution_count": 37,
      "outputs": []
    },
    {
      "cell_type": "code",
      "metadata": {
        "id": "SXGmo_LlNKMT",
        "outputId": "332867a5-0867-4b4e-e245-0f3b5c98b2c2",
        "colab": {
          "base_uri": "https://localhost:8080/",
          "height": 241
        }
      },
      "source": [
        "df=pd.read_csv(\"students_placement_data.csv\")\n",
        "df.head()"
      ],
      "execution_count": 38,
      "outputs": [
        {
          "output_type": "execute_result",
          "data": {
            "text/html": [
              "<div>\n",
              "<style scoped>\n",
              "    .dataframe tbody tr th:only-of-type {\n",
              "        vertical-align: middle;\n",
              "    }\n",
              "\n",
              "    .dataframe tbody tr th {\n",
              "        vertical-align: top;\n",
              "    }\n",
              "\n",
              "    .dataframe thead th {\n",
              "        text-align: right;\n",
              "    }\n",
              "</style>\n",
              "<table border=\"1\" class=\"dataframe\">\n",
              "  <thead>\n",
              "    <tr style=\"text-align: right;\">\n",
              "      <th></th>\n",
              "      <th>Roll No</th>\n",
              "      <th>Gender</th>\n",
              "      <th>Section</th>\n",
              "      <th>SSC Percentage</th>\n",
              "      <th>inter_Diploma_percentage</th>\n",
              "      <th>B.Tech_percentage</th>\n",
              "      <th>Backlogs</th>\n",
              "      <th>registered_for_ Placement_Training</th>\n",
              "      <th>placement status</th>\n",
              "    </tr>\n",
              "  </thead>\n",
              "  <tbody>\n",
              "    <tr>\n",
              "      <th>0</th>\n",
              "      <td>1</td>\n",
              "      <td>M</td>\n",
              "      <td>A</td>\n",
              "      <td>87.3</td>\n",
              "      <td>65.3</td>\n",
              "      <td>40.00</td>\n",
              "      <td>18</td>\n",
              "      <td>NO</td>\n",
              "      <td>Not placed</td>\n",
              "    </tr>\n",
              "    <tr>\n",
              "      <th>1</th>\n",
              "      <td>2</td>\n",
              "      <td>F</td>\n",
              "      <td>A</td>\n",
              "      <td>89.0</td>\n",
              "      <td>92.4</td>\n",
              "      <td>71.45</td>\n",
              "      <td>0</td>\n",
              "      <td>yes</td>\n",
              "      <td>Placed</td>\n",
              "    </tr>\n",
              "    <tr>\n",
              "      <th>2</th>\n",
              "      <td>3</td>\n",
              "      <td>F</td>\n",
              "      <td>A</td>\n",
              "      <td>67.0</td>\n",
              "      <td>68.0</td>\n",
              "      <td>45.26</td>\n",
              "      <td>13</td>\n",
              "      <td>yes</td>\n",
              "      <td>Not placed</td>\n",
              "    </tr>\n",
              "    <tr>\n",
              "      <th>3</th>\n",
              "      <td>4</td>\n",
              "      <td>M</td>\n",
              "      <td>A</td>\n",
              "      <td>71.0</td>\n",
              "      <td>70.4</td>\n",
              "      <td>36.47</td>\n",
              "      <td>17</td>\n",
              "      <td>yes</td>\n",
              "      <td>Not placed</td>\n",
              "    </tr>\n",
              "    <tr>\n",
              "      <th>4</th>\n",
              "      <td>5</td>\n",
              "      <td>M</td>\n",
              "      <td>A</td>\n",
              "      <td>NaN</td>\n",
              "      <td>65.5</td>\n",
              "      <td>42.52</td>\n",
              "      <td>17</td>\n",
              "      <td>yes</td>\n",
              "      <td>Not placed</td>\n",
              "    </tr>\n",
              "  </tbody>\n",
              "</table>\n",
              "</div>"
            ],
            "text/plain": [
              "   Roll No Gender  ... registered_for_ Placement_Training  placement status\n",
              "0        1      M  ...                                 NO        Not placed\n",
              "1        2      F  ...                                yes            Placed\n",
              "2        3      F  ...                                yes        Not placed\n",
              "3        4      M  ...                                yes        Not placed\n",
              "4        5      M  ...                                yes        Not placed\n",
              "\n",
              "[5 rows x 9 columns]"
            ]
          },
          "metadata": {
            "tags": []
          },
          "execution_count": 38
        }
      ]
    },
    {
      "cell_type": "markdown",
      "metadata": {
        "id": "VqQLwzI2No1T"
      },
      "source": [
        "##1) Central Tendency-Mean, Median,Mode"
      ]
    },
    {
      "cell_type": "markdown",
      "metadata": {
        "id": "wbt5c5QwN1Yh"
      },
      "source": [
        "###1.1) Calculate the mean & median of SSC Percentage,Inter_diploma_percentage and B.Tech_percentage"
      ]
    },
    {
      "cell_type": "code",
      "metadata": {
        "id": "KXCQNfweOOo3",
        "outputId": "f9aeeb39-a6e5-4880-c8e1-d9a7b314cc8b",
        "colab": {
          "base_uri": "https://localhost:8080/",
          "height": 173
        }
      },
      "source": [
        "print (\"Mean of SSC score\",df[\"SSC Percentage\"].mean())\n",
        "print (\"Mean of inter_Diploma score\",df[\"inter_Diploma_percentage\"].mean())\n",
        "print (\"Mean of B.Tech score\",df[\"B.Tech_percentage\"].mean())\n",
        "print (\"\\n\")\n",
        "print (\"Median of SSC score\",df[\"SSC Percentage\"].median())\n",
        "print (\"Median of inter_Diploma_score\",df[\"inter_Diploma_percentage\"].median())\n",
        "print (\"Median of B.Tech.score\",df[\"B.Tech_percentage\"].median())"
      ],
      "execution_count": null,
      "outputs": [
        {
          "output_type": "stream",
          "text": [
            "Mean of SSC score 80.47456896551722\n",
            "Mean of inter_Diploma score 80.77290598290598\n",
            "Mean of B.Tech score 62.9434188034188\n",
            "\n",
            "\n",
            "Median of SSC score 82.745\n",
            "Median of inter_Diploma_score 83.6\n",
            "Median of B.Tech.score 64.36\n"
          ],
          "name": "stdout"
        }
      ]
    },
    {
      "cell_type": "markdown",
      "metadata": {
        "id": "zOGzhp9MQf5l"
      },
      "source": [
        "###1.2)Apply mode on Gender.Are there more male or female?"
      ]
    },
    {
      "cell_type": "code",
      "metadata": {
        "id": "ESOHym9PRIpc",
        "outputId": "b5d8d784-2cd4-4b71-8db1-7f1e599467e2",
        "colab": {
          "base_uri": "https://localhost:8080/",
          "height": 51
        }
      },
      "source": [
        "df[\"Gender\"].mode()"
      ],
      "execution_count": null,
      "outputs": [
        {
          "output_type": "execute_result",
          "data": {
            "text/plain": [
              "0    M\n",
              "dtype: object"
            ]
          },
          "metadata": {
            "tags": []
          },
          "execution_count": 8
        }
      ]
    },
    {
      "cell_type": "markdown",
      "metadata": {
        "id": "JpR-2g7ORf6E"
      },
      "source": [
        "##2) Distribution of Data-Range,Interquartile range, Variance,Standard deviation, Correlation"
      ]
    },
    {
      "cell_type": "markdown",
      "metadata": {
        "id": "-XzGz-BNR7cP"
      },
      "source": [
        "###2.1)Range"
      ]
    },
    {
      "cell_type": "markdown",
      "metadata": {
        "id": "zB_CSsASR_8L"
      },
      "source": [
        "Range defines the difference between the maximum and minimum value"
      ]
    },
    {
      "cell_type": "markdown",
      "metadata": {
        "id": "O0ajWmd1SQxd"
      },
      "source": [
        "What is the Range of SSC Percentage,inter_Diploma_percentage and B.tech_percentage"
      ]
    },
    {
      "cell_type": "code",
      "metadata": {
        "id": "8ICPoQyySjNH",
        "outputId": "431af03f-0baf-49dd-95ad-ead90f8c5e4c",
        "colab": {
          "base_uri": "https://localhost:8080/",
          "height": 139
        }
      },
      "source": [
        "print (\"Range in SSC Score Range\",df[[\"SSC Percentage\"]].max()-df[[\"SSC Percentage\"]].min())\n",
        "print (\"Range in inter Diploma Score Range\",df[[\"inter_Diploma_percentage\"]].max()-df[[\"inter_Diploma_percentage\"]].min())\n",
        "print (\"Range in B.tech score Range\",df[[\"B.Tech_percentage\"]].max()-df[[\"B.Tech_percentage\"]].min())"
      ],
      "execution_count": null,
      "outputs": [
        {
          "output_type": "stream",
          "text": [
            "Range in SSC Score Range SSC Percentage    45.86\n",
            "dtype: float64\n",
            "Range in inter Diploma Score Range inter_Diploma_percentage    44.7\n",
            "dtype: float64\n",
            "Range in B.tech score Range B.Tech_percentage    56.9\n",
            "dtype: float64\n"
          ],
          "name": "stdout"
        }
      ]
    },
    {
      "cell_type": "markdown",
      "metadata": {
        "id": "rtOTdOZxUYAQ"
      },
      "source": [
        "##2.2) Interquartile range"
      ]
    },
    {
      "cell_type": "markdown",
      "metadata": {
        "id": "7WNdjB-WUct0"
      },
      "source": [
        "Interquartile is difference between 25th percentage elements and 75th percentile element.This is considered important because, elements less than or greater than this range may have outliers"
      ]
    },
    {
      "cell_type": "markdown",
      "metadata": {
        "id": "scCFCQaHU8rc"
      },
      "source": [
        "Find the Interquartile range of SSC Percentage"
      ]
    },
    {
      "cell_type": "code",
      "metadata": {
        "id": "5jWPuI5JVPbV",
        "outputId": "f1e84d19-aa5f-4ada-dd6f-d848a30a03a7",
        "colab": {
          "base_uri": "https://localhost:8080/",
          "height": 88
        }
      },
      "source": [
        "Q1=df[\"SSC Percentage\"].quantile(0.25)\n",
        "print (\"Quartile 1 is \",Q1)\n",
        "Q3=df[\"SSC Percentage\"].quantile(0.75)\n",
        "print (\"Quartile 3 is\",Q3)\n",
        "IQR=Q3-Q1\n",
        "print (\"The interquartile range is\",IQR)"
      ],
      "execution_count": null,
      "outputs": [
        {
          "output_type": "stream",
          "text": [
            "Quartile 1 is  76.6225\n",
            "Quartile 3 is 87.025\n",
            "The interquartile range is 10.402500000000003\n"
          ],
          "name": "stdout"
        }
      ]
    },
    {
      "cell_type": "markdown",
      "metadata": {
        "id": "zK1j48QlW4KU"
      },
      "source": [
        "##2.3) Standard deviation"
      ]
    },
    {
      "cell_type": "markdown",
      "metadata": {
        "id": "N-x9XikSW8T-"
      },
      "source": [
        "Find the standard deviation of SSC Percentage,inter_Diploma_percentage and B.Tech_percentage"
      ]
    },
    {
      "cell_type": "code",
      "metadata": {
        "id": "nBaPMPwOXNr3",
        "outputId": "8e3d07e1-9f4d-42ad-81c2-255b8cdd2a1e",
        "colab": {
          "base_uri": "https://localhost:8080/",
          "height": 88
        }
      },
      "source": [
        "print (\"standard deviation of SSC Score is :\",df[\"SSC Percentage\"].std())\n",
        "print (\"standard deviation of inter Diploma Score is:\",df[\"inter_Diploma_percentage\"].std())\n",
        "print (\"standard deviation of B.Tach score is :\",df[\"B.Tech_percentage\"].std())"
      ],
      "execution_count": null,
      "outputs": [
        {
          "output_type": "stream",
          "text": [
            "standard deviation of SSC Score is : 8.836078944698352\n",
            "standard deviation of inter Diploma Score is: 11.26724785566931\n",
            "standard deviation of B.Tach score is : 12.064305584885746\n"
          ],
          "name": "stdout"
        }
      ]
    },
    {
      "cell_type": "markdown",
      "metadata": {
        "id": "-93Snibham0D"
      },
      "source": [
        "##2.4) Variance"
      ]
    },
    {
      "cell_type": "markdown",
      "metadata": {
        "id": "NUwf573warF9"
      },
      "source": [
        "Variance is simple square of standard deviation"
      ]
    },
    {
      "cell_type": "markdown",
      "metadata": {
        "id": "ZuvyT9Aqa1Xu"
      },
      "source": [
        "Find the Variance of SSC Percentage,inter_Diploma_percentage and B.Tech_percentage"
      ]
    },
    {
      "cell_type": "code",
      "metadata": {
        "id": "tIjJMzK9bGn6",
        "outputId": "25dfbb07-f25d-48dd-adc4-7457caa1fd85",
        "colab": {
          "base_uri": "https://localhost:8080/",
          "height": 88
        }
      },
      "source": [
        "Inprint (\"Variance of SSC Score is :\",df[\"SSC Percentage\"].var())\n",
        "print (\"Variance of inter Diploma Score is :\",df[\"inter_Diploma_percentage\"].var())\n",
        "print (\"Variance of B.Tech score is :\",df[\"B.Tech_percentage\"].var())"
      ],
      "execution_count": null,
      "outputs": [
        {
          "output_type": "stream",
          "text": [
            "Variance of SSC Score is : 78.07629111694153\n",
            "Variance of inter Diploma Score is : 126.95087424108468\n",
            "Variance of B.Tech score is : 145.54746924550543\n"
          ],
          "name": "stdout"
        }
      ]
    },
    {
      "cell_type": "markdown",
      "metadata": {
        "id": "3AdOraHlbzPi"
      },
      "source": [
        "##2.5) Correlation"
      ]
    },
    {
      "cell_type": "markdown",
      "metadata": {
        "id": "jZbEHB6Cb2q2"
      },
      "source": [
        "Find the correlation between SSC Percentage,inter_Diploma_percentage and B.Tech Percentage"
      ]
    },
    {
      "cell_type": "code",
      "metadata": {
        "id": "4elOS-SicN4o",
        "outputId": "5f11038e-89b7-4730-de19-71efee401ebf",
        "colab": {
          "base_uri": "https://localhost:8080/",
          "height": 179
        }
      },
      "source": [
        "df[[\"SSC Percentage\",\"inter_Diploma_percentage\",\"B.Tech_percentage\"]].corr()"
      ],
      "execution_count": null,
      "outputs": [
        {
          "output_type": "execute_result",
          "data": {
            "text/html": [
              "<div>\n",
              "<style scoped>\n",
              "    .dataframe tbody tr th:only-of-type {\n",
              "        vertical-align: middle;\n",
              "    }\n",
              "\n",
              "    .dataframe tbody tr th {\n",
              "        vertical-align: top;\n",
              "    }\n",
              "\n",
              "    .dataframe thead th {\n",
              "        text-align: right;\n",
              "    }\n",
              "</style>\n",
              "<table border=\"1\" class=\"dataframe\">\n",
              "  <thead>\n",
              "    <tr style=\"text-align: right;\">\n",
              "      <th></th>\n",
              "      <th>SSC Percentage</th>\n",
              "      <th>inter_Diploma_percentage</th>\n",
              "      <th>B.Tech_percentage</th>\n",
              "    </tr>\n",
              "  </thead>\n",
              "  <tbody>\n",
              "    <tr>\n",
              "      <th>SSC Percentage</th>\n",
              "      <td>1.000000</td>\n",
              "      <td>0.625586</td>\n",
              "      <td>0.492849</td>\n",
              "    </tr>\n",
              "    <tr>\n",
              "      <th>inter_Diploma_percentage</th>\n",
              "      <td>0.625586</td>\n",
              "      <td>1.000000</td>\n",
              "      <td>0.729697</td>\n",
              "    </tr>\n",
              "    <tr>\n",
              "      <th>B.Tech_percentage</th>\n",
              "      <td>0.492849</td>\n",
              "      <td>0.729697</td>\n",
              "      <td>1.000000</td>\n",
              "    </tr>\n",
              "  </tbody>\n",
              "</table>\n",
              "</div>"
            ],
            "text/plain": [
              "                          SSC Percentage  ...  B.Tech_percentage\n",
              "SSC Percentage                  1.000000  ...           0.492849\n",
              "inter_Diploma_percentage        0.625586  ...           0.729697\n",
              "B.Tech_percentage               0.492849  ...           1.000000\n",
              "\n",
              "[3 rows x 3 columns]"
            ]
          },
          "metadata": {
            "tags": []
          },
          "execution_count": 19
        }
      ]
    },
    {
      "cell_type": "markdown",
      "metadata": {
        "id": "OMXxr3dHcezP"
      },
      "source": [
        "##3)Draw a box plot to demonstrate Range, Interquartile range."
      ]
    },
    {
      "cell_type": "markdown",
      "metadata": {
        "id": "sn1fdVIecpK_"
      },
      "source": [
        "Use a box plot to explain the performance of placed vs unplaced students in B.Tech."
      ]
    },
    {
      "cell_type": "code",
      "metadata": {
        "id": "ZsUCJjSCc5hb",
        "outputId": "08717874-b1bc-49a9-bf51-dafcaff945a0",
        "colab": {
          "base_uri": "https://localhost:8080/",
          "height": 240
        }
      },
      "source": [
        "sns.boxplot(x=\"placement status\",y=\"B.Tech_percentage\",data=df)"
      ],
      "execution_count": null,
      "outputs": [
        {
          "output_type": "execute_result",
          "data": {
            "text/plain": [
              "<matplotlib.axes._subplots.AxesSubplot at 0x7fde644aeb00>"
            ]
          },
          "metadata": {
            "tags": []
          },
          "execution_count": 22
        },
        {
          "output_type": "display_data",
          "data": {
            "image/png": "[encoded data removed]",
            "text/plain": [
              "<Figure size 432x288 with 1 Axes>"
            ]
          },
          "metadata": {
            "tags": [],
            "needs_background": "light"
          }
        }
      ]
    },
    {
      "cell_type": "markdown",
      "metadata": {
        "id": "2vX_9kLteGYQ"
      },
      "source": [
        "Here we observe that placed students are performing better than unplaced students"
      ]
    },
    {
      "cell_type": "markdown",
      "metadata": {
        "id": "6fVgE_5LeifB"
      },
      "source": [
        "*The range of unplaced students is approximately 32 to 78."
      ]
    },
    {
      "cell_type": "markdown",
      "metadata": {
        "id": "BrcfV20_fCfO"
      },
      "source": [
        "*The range for placed students is approximately 65 to 85."
      ]
    },
    {
      "cell_type": "markdown",
      "metadata": {
        "id": "LVjDOto6fdUZ"
      },
      "source": [
        "*The interquartile range for unplaced students is approximately 52 to 75."
      ]
    },
    {
      "cell_type": "markdown",
      "metadata": {
        "id": "ZmhtU8OGfr2F"
      },
      "source": [
        "*The interquartile range for placed students is approximately 72 to 78."
      ]
    },
    {
      "cell_type": "markdown",
      "metadata": {
        "id": "MkQVzMWSf0a7"
      },
      "source": [
        "##4) Show the correlation between 2 variables using a scatter plot"
      ]
    },
    {
      "cell_type": "markdown",
      "metadata": {
        "id": "jHfwtdH9gDLA"
      },
      "source": [
        "Find the correlation between SSC Percentage and inter_Diploma_percentage by visual inspection using a scatter plot.What type of correlation do they have between them?"
      ]
    },
    {
      "cell_type": "code",
      "metadata": {
        "id": "mzRnS5jkgeIn",
        "outputId": "b29de930-53ad-4373-aa4d-785c40b3a6e0",
        "colab": {
          "base_uri": "https://localhost:8080/",
          "height": 236
        }
      },
      "source": [
        "plt.scatter(df[\"SSC Percentage\"],df[\"inter_Diploma_percentage\"])"
      ],
      "execution_count": null,
      "outputs": [
        {
          "output_type": "execute_result",
          "data": {
            "text/plain": [
              "<matplotlib.collections.PathCollection at 0x7fde623677b8>"
            ]
          },
          "metadata": {
            "tags": []
          },
          "execution_count": 23
        },
        {
          "output_type": "display_data",
          "data": {
            "image/png": "[encoded data removed]",
            "text/plain": [
              "<Figure size 432x288 with 1 Axes>"
            ]
          },
          "metadata": {
            "tags": [],
            "needs_background": "light"
          }
        }
      ]
    },
    {
      "cell_type": "markdown",
      "metadata": {
        "id": "GYe0w6K9g5Id"
      },
      "source": [
        "##5)Draw a histogram to show how data is distributed"
      ]
    },
    {
      "cell_type": "markdown",
      "metadata": {
        "id": "BlO7JPkwwlpl"
      },
      "source": [
        "###5.1)Draw a histogram to show the distribution of SSC Percentage.Most of the people got score in which range?"
      ]
    },
    {
      "cell_type": "code",
      "metadata": {
        "id": "AZv1hZKUw2yq",
        "outputId": "6e7154f1-715d-4305-818c-730813cd2a1f",
        "colab": {
          "base_uri": "https://localhost:8080/",
          "height": 264
        }
      },
      "source": [
        "bins=np.linspace(0,100,11)\n",
        "print (bins)\n",
        "plt.hist(df[\"SSC Percentage\"],bins,width=8)\n",
        "plt.xlabel(\"SSC Percentage\")"
      ],
      "execution_count": 32,
      "outputs": [
        {
          "output_type": "stream",
          "text": [
            "[  0.  10.  20.  30.  40.  50.  60.  70.  80.  90. 100.]\n"
          ],
          "name": "stdout"
        },
        {
          "output_type": "execute_result",
          "data": {
            "text/plain": [
              "Text(0.5, 0, 'SSC Percentage')"
            ]
          },
          "metadata": {
            "tags": []
          },
          "execution_count": 32
        },
        {
          "output_type": "display_data",
          "data": {
            "image/png": "[encoded data removed]",
            "text/plain": [
              "<Figure size 432x288 with 1 Axes>"
            ]
          },
          "metadata": {
            "tags": [],
            "needs_background": "light"
          }
        }
      ]
    },
    {
      "cell_type": "markdown",
      "metadata": {
        "id": "LIfT4aMqy91_"
      },
      "source": [
        "####Most of the people got score in the range of 80-90"
      ]
    },
    {
      "cell_type": "markdown",
      "metadata": {
        "id": "rqx_s8cc1Sc9"
      },
      "source": [
        "###5.2)Draw a histogram to show the distribution of B.Tech percentage.Most of the people got score in which range?"
      ]
    },
    {
      "cell_type": "code",
      "metadata": {
        "id": "ratLIUxz2Y_r",
        "outputId": "6543e8f8-791b-44f1-8049-78d56519f834",
        "colab": {
          "base_uri": "https://localhost:8080/",
          "height": 264
        }
      },
      "source": [
        "bins=np.linspace(0,100,11)\n",
        "print (bins)\n",
        "plt.hist(df[\"B.Tech_percentage\"],bins,width=8)\n",
        "plt.xlabel(\"B.Tech_percentage\")"
      ],
      "execution_count": 34,
      "outputs": [
        {
          "output_type": "stream",
          "text": [
            "[  0.  10.  20.  30.  40.  50.  60.  70.  80.  90. 100.]\n"
          ],
          "name": "stdout"
        },
        {
          "output_type": "execute_result",
          "data": {
            "text/plain": [
              "Text(0.5, 0, 'B.Tech_percentage')"
            ]
          },
          "metadata": {
            "tags": []
          },
          "execution_count": 34
        },
        {
          "output_type": "display_data",
          "data": {
            "image/png": "[encoded data removed]",
            "text/plain": [
              "<Figure size 432x288 with 1 Axes>"
            ]
          },
          "metadata": {
            "tags": [],
            "needs_background": "light"
          }
        }
      ]
    },
    {
      "cell_type": "markdown",
      "metadata": {
        "id": "FZxFX1BD2-2Q"
      },
      "source": [
        "###Most of the people got score in the range of 70 to 80"
      ]
    },
    {
      "cell_type": "markdown",
      "metadata": {
        "id": "IKiVoy3SzvDx"
      },
      "source": [
        "###5.3)Draw a histogram to show the distribution of Intermediate percentage.Most of the people got score in which range?"
      ]
    },
    {
      "cell_type": "code",
      "metadata": {
        "id": "gethJPHkz_VS",
        "outputId": "4775a1a5-afc2-4884-dd2b-fbe2d0155558",
        "colab": {
          "base_uri": "https://localhost:8080/",
          "height": 264
        }
      },
      "source": [
        "bins=np.linspace(0,100,11)\n",
        "print (bins)\n",
        "plt.hist(df[\"inter_Diploma_percentage\"],bins,width=8)\n",
        "plt.xlabel(\"inter_Diplom_percentage\")"
      ],
      "execution_count": 33,
      "outputs": [
        {
          "output_type": "stream",
          "text": [
            "[  0.  10.  20.  30.  40.  50.  60.  70.  80.  90. 100.]\n"
          ],
          "name": "stdout"
        },
        {
          "output_type": "execute_result",
          "data": {
            "text/plain": [
              "Text(0.5, 0, 'inter_Diplom_percentage')"
            ]
          },
          "metadata": {
            "tags": []
          },
          "execution_count": 33
        },
        {
          "output_type": "display_data",
          "data": {
            "image/png": "[encoded data removed]",
            "text/plain": [
              "<Figure size 432x288 with 1 Axes>"
            ]
          },
          "metadata": {
            "tags": [],
            "needs_background": "light"
          }
        }
      ]
    },
    {
      "cell_type": "markdown",
      "metadata": {
        "id": "qTSU9w9o0r0l"
      },
      "source": [
        "###Most of the people got score in the range of 80 to 90"
      ]
    },
    {
      "cell_type": "markdown",
      "metadata": {
        "id": "K4_6goAw3HrI"
      },
      "source": [
        "##6) For the given data,show which attribute as a) continuous b)Ordered c)Binary"
      ]
    },
    {
      "cell_type": "code",
      "metadata": {
        "id": "_MnsyBOu3gO1",
        "outputId": "97ce6295-91f5-4bcc-d728-c8e2986db921",
        "colab": {
          "base_uri": "https://localhost:8080/",
          "height": 207
        }
      },
      "source": [
        "df.nunique()"
      ],
      "execution_count": 35,
      "outputs": [
        {
          "output_type": "execute_result",
          "data": {
            "text/plain": [
              "Roll No                               117\n",
              "Gender                                  2\n",
              "Section                                 2\n",
              "SSC Percentage                         88\n",
              "inter_Diploma_percentage               99\n",
              "B.Tech_percentage                     106\n",
              "Backlogs                               22\n",
              "registered_for_ Placement_Training      2\n",
              "placement status                        2\n",
              "dtype: int64"
            ]
          },
          "metadata": {
            "tags": []
          },
          "execution_count": 35
        }
      ]
    },
    {
      "cell_type": "markdown",
      "metadata": {
        "id": "BhHTWOgm31-7"
      },
      "source": [
        "###From the above data Gender, Section, Registered_for_Placements_Training, Placement status are binary attributes because they have only 2"
      ]
    },
    {
      "cell_type": "code",
      "metadata": {
        "id": "WcqNcm7n5WD0",
        "outputId": "b5587a49-abdf-4b6f-8937-00e14585cd9c",
        "colab": {
          "base_uri": "https://localhost:8080/",
          "height": 207
        }
      },
      "source": [
        "df.dtypes"
      ],
      "execution_count": 36,
      "outputs": [
        {
          "output_type": "execute_result",
          "data": {
            "text/plain": [
              "Roll No                                 int64\n",
              "Gender                                 object\n",
              "Section                                object\n",
              "SSC Percentage                        float64\n",
              "inter_Diploma_percentage              float64\n",
              "B.Tech_percentage                     float64\n",
              "Backlogs                                int64\n",
              "registered_for_ Placement_Training     object\n",
              "placement status                       object\n",
              "dtype: object"
            ]
          },
          "metadata": {
            "tags": []
          },
          "execution_count": 36
        }
      ]
    },
    {
      "cell_type": "markdown",
      "metadata": {
        "id": "VtCqr27d5cPC"
      },
      "source": [
        "###SSC Percentage,inter_diplomal_percentage and B.Tech_percentage are continuous and ordinal attributes"
      ]
    },
    {
      "cell_type": "markdown",
      "metadata": {
        "id": "1fhXzDTr6X8Q"
      },
      "source": [
        "###Backlogs can be ordinal.it cannot take float value and there will be a limited number of Backlogs"
      ]
    }
  ]
}