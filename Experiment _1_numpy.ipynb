{
  "nbformat": 4,
  "nbformat_minor": 0,
  "metadata": {
    "colab": {
      "name": "Ai Lab Experiment 1: Numpy",
      "provenance": [],
      "collapsed_sections": [],
      "authorship_tag": "ABX9TyOg72rMV5knfWyBUJEmKHY9",
      "include_colab_link": true
    },
    "kernelspec": {
      "name": "python3",
      "display_name": "Python 3"
    }
  },
  "cells": [
    {
      "cell_type": "markdown",
      "metadata": {
        "id": "view-in-github",
        "colab_type": "text"
      },
      "source": [
        "<a href=\"https://colab.research.google.com/github/19pa1a0204/AI-Lab/blob/master/Experiment%20_1_numpy.ipynb\" target=\"_parent\"><img src=\"https://colab.research.google.com/assets/colab-badge.svg\" alt=\"Open In Colab\"/></a>"
      ]
    },
    {
      "cell_type": "markdown",
      "metadata": {
        "id": "-y6cZF-lQGHs",
        "colab_type": "text"
      },
      "source": [
        "#Experiment No1 : Numpy\n",
        " \n",
        " \n",
        "##1) Different ways to create a NumPy arrays."
      ]
    },
    {
      "cell_type": "code",
      "metadata": {
        "id": "sjyuigVr00hz",
        "colab_type": "code",
        "colab": {
          "base_uri": "https://localhost:8080/",
          "height": 34
        },
        "outputId": "2cb10d33-5e7a-44c6-b3c5-7ae032e6dccf"
      },
      "source": [
        "import numpy as np\n",
        "a = np.array([1,2,3])\n",
        "print (a)"
      ],
      "execution_count": null,
      "outputs": [
        {
          "output_type": "stream",
          "text": [
            "[1 2 3]\n"
          ],
          "name": "stdout"
        }
      ]
    },
    {
      "cell_type": "code",
      "metadata": {
        "id": "qNJuyIV13Z5V",
        "colab_type": "code",
        "colab": {
          "base_uri": "https://localhost:8080/",
          "height": 51
        },
        "outputId": "e3199778-238a-487a-f6d2-8aa56d352213"
      },
      "source": [
        "p = np.array([[1,2,3],[4,5,6]])\n",
        "print(b)"
      ],
      "execution_count": null,
      "outputs": [
        {
          "output_type": "stream",
          "text": [
            "[[1 2 3]\n",
            " [4 5 6]]\n"
          ],
          "name": "stdout"
        }
      ]
    },
    {
      "cell_type": "markdown",
      "metadata": {
        "id": "_3BS2Hcp3kTP",
        "colab_type": "text"
      },
      "source": [
        "##2)Add,remove,modify elements in an array."
      ]
    },
    {
      "cell_type": "markdown",
      "metadata": {
        "id": "FhAbOc8Bzbdv",
        "colab_type": "text"
      },
      "source": [
        "###a.Add"
      ]
    },
    {
      "cell_type": "code",
      "metadata": {
        "id": "PdmUe57N4AB-",
        "colab_type": "code",
        "colab": {
          "base_uri": "https://localhost:8080/",
          "height": 34
        },
        "outputId": "99cf2c39-06ba-4fc7-f37f-38f7cb88ac9e"
      },
      "source": [
        "b = np.append(a,[4,5,6])\n",
        "print(b)"
      ],
      "execution_count": null,
      "outputs": [
        {
          "output_type": "stream",
          "text": [
            "[1 2 3 4 5 6]\n"
          ],
          "name": "stdout"
        }
      ]
    },
    {
      "cell_type": "markdown",
      "metadata": {
        "id": "SNEAa2xlziG4",
        "colab_type": "text"
      },
      "source": [
        "###b.Remove"
      ]
    },
    {
      "cell_type": "code",
      "metadata": {
        "id": "98K9yXoU45r5",
        "colab_type": "code",
        "colab": {
          "base_uri": "https://localhost:8080/",
          "height": 34
        },
        "outputId": "d16da759-e308-4f57-8251-85c4f8251ab4"
      },
      "source": [
        "c = np.delete(a,[1,2])\n",
        "print(c)"
      ],
      "execution_count": null,
      "outputs": [
        {
          "output_type": "stream",
          "text": [
            "[1]\n"
          ],
          "name": "stdout"
        }
      ]
    },
    {
      "cell_type": "markdown",
      "metadata": {
        "id": "Z7wf-JFI0daK",
        "colab_type": "text"
      },
      "source": [
        "###c.Modify"
      ]
    },
    {
      "cell_type": "code",
      "metadata": {
        "id": "CQsnNEf4491r",
        "colab_type": "code",
        "colab": {
          "base_uri": "https://localhost:8080/",
          "height": 34
        },
        "outputId": "e3499f42-cbf3-4004-996e-0eeeb81fbe4b"
      },
      "source": [
        "d = np.array([1,2,3,4,5,6])\n",
        "d[d<2]=-1\n",
        "print(d)"
      ],
      "execution_count": null,
      "outputs": [
        {
          "output_type": "stream",
          "text": [
            "[-1  2  3  4  5  6]\n"
          ],
          "name": "stdout"
        }
      ]
    },
    {
      "cell_type": "markdown",
      "metadata": {
        "id": "0dsFJlZ08kpL",
        "colab_type": "text"
      },
      "source": [
        "##3) Arithmetic operations on NumPy array."
      ]
    },
    {
      "cell_type": "code",
      "metadata": {
        "id": "Rx46fgGS88R9",
        "colab_type": "code",
        "colab": {
          "base_uri": "https://localhost:8080/",
          "height": 241
        },
        "outputId": "08ea07e3-dc9b-4830-a64b-9d46c1f9cefa"
      },
      "source": [
        "import numpy as np\n",
        "a = np.random.random((2,3))\n",
        "b = np.random.random((2,3))\n",
        "sum=np.add(a,b)\n",
        "diff=np.subtract(a,b)\n",
        "prod=np.multiply(a,b)\n",
        "quo=np.divide(a,b)\n",
        "mod=np.mod(a,b)\n",
        "pow=np.power(a,b)\n",
        "print(sum)\n",
        "print(diff)\n",
        "print(prod)\n",
        "print(quo)\n",
        "print(mod)\n",
        "print(pow)"
      ],
      "execution_count": null,
      "outputs": [
        {
          "output_type": "stream",
          "text": [
            "[[1.32554555 1.67157971 1.27870477]\n",
            " [0.45456299 1.51911372 0.32201559]]\n",
            "[[ 0.48241317  0.18967471  0.12873398]\n",
            " [-0.37685459 -0.10625275 -0.11401333]]\n",
            "[[0.38108714 0.68955055 0.40462837]\n",
            " [0.01615203 0.57410421 0.02267375]]\n",
            "[[2.14433553 1.25598768 1.22389086]\n",
            " [0.09346495 0.86925687 0.47703775]]\n",
            "[[0.06084698 0.18967471 0.12873398]\n",
            " [0.0388542  0.70643049 0.10400113]]\n",
            "[[0.95833624 0.94812219 0.81706564]\n",
            " [0.25918924 0.75394777 0.61052026]]\n"
          ],
          "name": "stdout"
        }
      ]
    },
    {
      "cell_type": "markdown",
      "metadata": {
        "id": "2wmoNPss_aFm",
        "colab_type": "text"
      },
      "source": [
        "##4) Slicing and iterating of NumPy arrays."
      ]
    },
    {
      "cell_type": "markdown",
      "metadata": {
        "id": "eNaHZZH107_1",
        "colab_type": "text"
      },
      "source": [
        "###a.Slicing"
      ]
    },
    {
      "cell_type": "code",
      "metadata": {
        "id": "MswjO7Yo_wN5",
        "colab_type": "code",
        "colab": {
          "base_uri": "https://localhost:8080/",
          "height": 34
        },
        "outputId": "ccb27f2a-6f36-4739-8098-e8a0554acd2b"
      },
      "source": [
        "import numpy as np\n",
        "arr = np.array([1,2,3,4,5,6])\n",
        "print (arr[2:4])"
      ],
      "execution_count": null,
      "outputs": [
        {
          "output_type": "stream",
          "text": [
            "[3 4]\n"
          ],
          "name": "stdout"
        }
      ]
    },
    {
      "cell_type": "markdown",
      "metadata": {
        "id": "4xkKlGo_02XC",
        "colab_type": "text"
      },
      "source": [
        "###b.Iterating"
      ]
    },
    {
      "cell_type": "code",
      "metadata": {
        "id": "BwPicPXLBVrA",
        "colab_type": "code",
        "colab": {
          "base_uri": "https://localhost:8080/",
          "height": 119
        },
        "outputId": "c5921f9b-e2fd-4a5b-fae4-43374ef1e5a6"
      },
      "source": [
        "for i in arr:\n",
        "  print(i)"
      ],
      "execution_count": null,
      "outputs": [
        {
          "output_type": "stream",
          "text": [
            "1\n",
            "2\n",
            "3\n",
            "4\n",
            "5\n",
            "6\n"
          ],
          "name": "stdout"
        }
      ]
    },
    {
      "cell_type": "markdown",
      "metadata": {
        "id": "-UJIlI7jBucG",
        "colab_type": "text"
      },
      "source": [
        "##5) Matrix operation on NumPy arrays."
      ]
    },
    {
      "cell_type": "code",
      "metadata": {
        "id": "OVLh1firB-X6",
        "colab_type": "code",
        "colab": {
          "base_uri": "https://localhost:8080/",
          "height": 119
        },
        "outputId": "6dbd3786-b257-4575-e998-e8997a8d0429"
      },
      "source": [
        "import numpy as np\n",
        "a = np.array([[3,4],[3,4]])\n",
        "b = np.array([[3,4],[3,4]])\n",
        "print(np.add(a,b))\n",
        "print(np.subtract(a,b))\n",
        "print(np.divide(a,b))"
      ],
      "execution_count": null,
      "outputs": [
        {
          "output_type": "stream",
          "text": [
            "[[6 8]\n",
            " [6 8]]\n",
            "[[0 0]\n",
            " [0 0]]\n",
            "[[1. 1.]\n",
            " [1. 1.]]\n"
          ],
          "name": "stdout"
        }
      ]
    }
  ]
}